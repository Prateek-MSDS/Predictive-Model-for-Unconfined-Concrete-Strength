{
  "cells": [
    {
      "cell_type": "markdown",
      "id": "bc613138",
      "metadata": {
        "id": "bc613138"
      },
      "source": [
        "### Load Libraries"
      ]
    },
    {
      "cell_type": "code",
      "execution_count": 1,
      "id": "1c9bf5fc",
      "metadata": {
        "id": "1c9bf5fc"
      },
      "outputs": [],
      "source": [
        "# !pip install -Uqq fastai\n",
        "# !pip install -Uqq lmfit"
      ]
    },
    {
      "cell_type": "code",
      "execution_count": 2,
      "id": "f5dd9f49",
      "metadata": {
        "id": "f5dd9f49"
      },
      "outputs": [],
      "source": [
        "# !pip install -Uqq torch\n",
        "# !pip install -Uqq fast-tabnet\n"
      ]
    },
    {
      "cell_type": "code",
      "execution_count": 3,
      "id": "901d836c",
      "metadata": {
        "id": "901d836c"
      },
      "outputs": [],
      "source": [
        "import warnings\n",
        "warnings.filterwarnings('ignore')\n",
        "\n",
        "import pandas as pd\n",
        "import numpy as np\n",
        "import matplotlib.pyplot as plt\n",
        "import re"
      ]
    },
    {
      "cell_type": "markdown",
      "id": "8e533e73",
      "metadata": {
        "id": "8e533e73"
      },
      "source": [
        "### Load the Data"
      ]
    },
    {
      "cell_type": "code",
      "execution_count": 4,
      "id": "98cf286b",
      "metadata": {
        "id": "98cf286b"
      },
      "outputs": [],
      "source": [
        "SpecimenCompressionTestResult = pd.read_excel('SpecimenCompressionTestResult.xlsx')\n",
        "SpecimenFieldReport = pd.read_excel('SpecimenFieldReport.xlsx')\n",
        "ProjectInformation = pd.read_excel('ProjectInformationUpdated.xlsx')\n"
      ]
    },
    {
      "cell_type": "markdown",
      "id": "bafe8247",
      "metadata": {
        "id": "bafe8247"
      },
      "source": [
        "### Merge the Data"
      ]
    },
    {
      "cell_type": "code",
      "execution_count": 5,
      "id": "f14c5c2c",
      "metadata": {
        "colab": {
          "base_uri": "https://localhost:8080/",
          "height": 447
        },
        "id": "f14c5c2c",
        "outputId": "a93fb15e-a224-4468-fffe-d4dd02e48b79"
      },
      "outputs": [
        {
          "output_type": "execute_result",
          "data": {
            "text/plain": [
              "   BatchLabNumber ReportDateIssued  SpecimenAgeTested SpecimenDateTested  \\\n",
              "0           12285       2022-07-07                  7         2022-06-16   \n",
              "1           12285       2022-07-07                 28         2022-07-07   \n",
              "2           12285       2022-07-07                 28         2022-07-07   \n",
              "3           12285       2022-07-07                 28         2022-07-07   \n",
              "\n",
              "   SpecimenMeasuredStrength                            BatchLabID  \\\n",
              "0                      9860  54abcd3a-473e-4897-9cb2-1a890cc89c88   \n",
              "1                     10360  54abcd3a-473e-4897-9cb2-1a890cc89c88   \n",
              "2                     10300  54abcd3a-473e-4897-9cb2-1a890cc89c88   \n",
              "3                     10140  54abcd3a-473e-4897-9cb2-1a890cc89c88   \n",
              "\n",
              "   CylinderTestID  SiteTemperature SiteWeather     BatchTimeMolded  \\\n",
              "0               1             79.0       Clear 2022-06-09 12:53:00   \n",
              "1               2             79.0       Clear 2022-06-09 12:53:00   \n",
              "2               3             79.0       Clear 2022-06-09 12:53:00   \n",
              "3               4             79.0       Clear 2022-06-09 12:53:00   \n",
              "\n",
              "  BatchSpecimenSize  BatchTemperature  BatchUnitWeight BatchRequiredStrength  \\\n",
              "0               4X8              89.0            149.6                  8000   \n",
              "1               4X8              89.0            149.6                  8000   \n",
              "2               4X8              89.0            149.6                  8000   \n",
              "3               4X8              89.0            149.6                  8000   \n",
              "\n",
              "  StructureType  StructureNumberLevels  StructureHeight  SiteLattitude   \\\n",
              "0   Residential                     34          418.375       36.161455   \n",
              "1   Residential                     34          418.375       36.161455   \n",
              "2   Residential                     34          418.375       36.161455   \n",
              "3   Residential                     34          418.375       36.161455   \n",
              "\n",
              "  SiteLongitude  \n",
              "0      -86.7848  \n",
              "1      -86.7848  \n",
              "2      -86.7848  \n",
              "3      -86.7848  "
            ],
            "text/html": [
              "\n",
              "  <div id=\"df-28843cac-7f23-4117-9951-ab54fbb194c6\">\n",
              "    <div class=\"colab-df-container\">\n",
              "      <div>\n",
              "<style scoped>\n",
              "    .dataframe tbody tr th:only-of-type {\n",
              "        vertical-align: middle;\n",
              "    }\n",
              "\n",
              "    .dataframe tbody tr th {\n",
              "        vertical-align: top;\n",
              "    }\n",
              "\n",
              "    .dataframe thead th {\n",
              "        text-align: right;\n",
              "    }\n",
              "</style>\n",
              "<table border=\"1\" class=\"dataframe\">\n",
              "  <thead>\n",
              "    <tr style=\"text-align: right;\">\n",
              "      <th></th>\n",
              "      <th>BatchLabNumber</th>\n",
              "      <th>ReportDateIssued</th>\n",
              "      <th>SpecimenAgeTested</th>\n",
              "      <th>SpecimenDateTested</th>\n",
              "      <th>SpecimenMeasuredStrength</th>\n",
              "      <th>BatchLabID</th>\n",
              "      <th>CylinderTestID</th>\n",
              "      <th>SiteTemperature</th>\n",
              "      <th>SiteWeather</th>\n",
              "      <th>BatchTimeMolded</th>\n",
              "      <th>BatchSpecimenSize</th>\n",
              "      <th>BatchTemperature</th>\n",
              "      <th>BatchUnitWeight</th>\n",
              "      <th>BatchRequiredStrength</th>\n",
              "      <th>StructureType</th>\n",
              "      <th>StructureNumberLevels</th>\n",
              "      <th>StructureHeight</th>\n",
              "      <th>SiteLattitude</th>\n",
              "      <th>SiteLongitude</th>\n",
              "    </tr>\n",
              "  </thead>\n",
              "  <tbody>\n",
              "    <tr>\n",
              "      <th>0</th>\n",
              "      <td>12285</td>\n",
              "      <td>2022-07-07</td>\n",
              "      <td>7</td>\n",
              "      <td>2022-06-16</td>\n",
              "      <td>9860</td>\n",
              "      <td>54abcd3a-473e-4897-9cb2-1a890cc89c88</td>\n",
              "      <td>1</td>\n",
              "      <td>79.0</td>\n",
              "      <td>Clear</td>\n",
              "      <td>2022-06-09 12:53:00</td>\n",
              "      <td>4X8</td>\n",
              "      <td>89.0</td>\n",
              "      <td>149.6</td>\n",
              "      <td>8000</td>\n",
              "      <td>Residential</td>\n",
              "      <td>34</td>\n",
              "      <td>418.375</td>\n",
              "      <td>36.161455</td>\n",
              "      <td>-86.7848</td>\n",
              "    </tr>\n",
              "    <tr>\n",
              "      <th>1</th>\n",
              "      <td>12285</td>\n",
              "      <td>2022-07-07</td>\n",
              "      <td>28</td>\n",
              "      <td>2022-07-07</td>\n",
              "      <td>10360</td>\n",
              "      <td>54abcd3a-473e-4897-9cb2-1a890cc89c88</td>\n",
              "      <td>2</td>\n",
              "      <td>79.0</td>\n",
              "      <td>Clear</td>\n",
              "      <td>2022-06-09 12:53:00</td>\n",
              "      <td>4X8</td>\n",
              "      <td>89.0</td>\n",
              "      <td>149.6</td>\n",
              "      <td>8000</td>\n",
              "      <td>Residential</td>\n",
              "      <td>34</td>\n",
              "      <td>418.375</td>\n",
              "      <td>36.161455</td>\n",
              "      <td>-86.7848</td>\n",
              "    </tr>\n",
              "    <tr>\n",
              "      <th>2</th>\n",
              "      <td>12285</td>\n",
              "      <td>2022-07-07</td>\n",
              "      <td>28</td>\n",
              "      <td>2022-07-07</td>\n",
              "      <td>10300</td>\n",
              "      <td>54abcd3a-473e-4897-9cb2-1a890cc89c88</td>\n",
              "      <td>3</td>\n",
              "      <td>79.0</td>\n",
              "      <td>Clear</td>\n",
              "      <td>2022-06-09 12:53:00</td>\n",
              "      <td>4X8</td>\n",
              "      <td>89.0</td>\n",
              "      <td>149.6</td>\n",
              "      <td>8000</td>\n",
              "      <td>Residential</td>\n",
              "      <td>34</td>\n",
              "      <td>418.375</td>\n",
              "      <td>36.161455</td>\n",
              "      <td>-86.7848</td>\n",
              "    </tr>\n",
              "    <tr>\n",
              "      <th>3</th>\n",
              "      <td>12285</td>\n",
              "      <td>2022-07-07</td>\n",
              "      <td>28</td>\n",
              "      <td>2022-07-07</td>\n",
              "      <td>10140</td>\n",
              "      <td>54abcd3a-473e-4897-9cb2-1a890cc89c88</td>\n",
              "      <td>4</td>\n",
              "      <td>79.0</td>\n",
              "      <td>Clear</td>\n",
              "      <td>2022-06-09 12:53:00</td>\n",
              "      <td>4X8</td>\n",
              "      <td>89.0</td>\n",
              "      <td>149.6</td>\n",
              "      <td>8000</td>\n",
              "      <td>Residential</td>\n",
              "      <td>34</td>\n",
              "      <td>418.375</td>\n",
              "      <td>36.161455</td>\n",
              "      <td>-86.7848</td>\n",
              "    </tr>\n",
              "  </tbody>\n",
              "</table>\n",
              "</div>\n",
              "      <button class=\"colab-df-convert\" onclick=\"convertToInteractive('df-28843cac-7f23-4117-9951-ab54fbb194c6')\"\n",
              "              title=\"Convert this dataframe to an interactive table.\"\n",
              "              style=\"display:none;\">\n",
              "        \n",
              "  <svg xmlns=\"http://www.w3.org/2000/svg\" height=\"24px\"viewBox=\"0 0 24 24\"\n",
              "       width=\"24px\">\n",
              "    <path d=\"M0 0h24v24H0V0z\" fill=\"none\"/>\n",
              "    <path d=\"M18.56 5.44l.94 2.06.94-2.06 2.06-.94-2.06-.94-.94-2.06-.94 2.06-2.06.94zm-11 1L8.5 8.5l.94-2.06 2.06-.94-2.06-.94L8.5 2.5l-.94 2.06-2.06.94zm10 10l.94 2.06.94-2.06 2.06-.94-2.06-.94-.94-2.06-.94 2.06-2.06.94z\"/><path d=\"M17.41 7.96l-1.37-1.37c-.4-.4-.92-.59-1.43-.59-.52 0-1.04.2-1.43.59L10.3 9.45l-7.72 7.72c-.78.78-.78 2.05 0 2.83L4 21.41c.39.39.9.59 1.41.59.51 0 1.02-.2 1.41-.59l7.78-7.78 2.81-2.81c.8-.78.8-2.07 0-2.86zM5.41 20L4 18.59l7.72-7.72 1.47 1.35L5.41 20z\"/>\n",
              "  </svg>\n",
              "      </button>\n",
              "      \n",
              "  <style>\n",
              "    .colab-df-container {\n",
              "      display:flex;\n",
              "      flex-wrap:wrap;\n",
              "      gap: 12px;\n",
              "    }\n",
              "\n",
              "    .colab-df-convert {\n",
              "      background-color: #E8F0FE;\n",
              "      border: none;\n",
              "      border-radius: 50%;\n",
              "      cursor: pointer;\n",
              "      display: none;\n",
              "      fill: #1967D2;\n",
              "      height: 32px;\n",
              "      padding: 0 0 0 0;\n",
              "      width: 32px;\n",
              "    }\n",
              "\n",
              "    .colab-df-convert:hover {\n",
              "      background-color: #E2EBFA;\n",
              "      box-shadow: 0px 1px 2px rgba(60, 64, 67, 0.3), 0px 1px 3px 1px rgba(60, 64, 67, 0.15);\n",
              "      fill: #174EA6;\n",
              "    }\n",
              "\n",
              "    [theme=dark] .colab-df-convert {\n",
              "      background-color: #3B4455;\n",
              "      fill: #D2E3FC;\n",
              "    }\n",
              "\n",
              "    [theme=dark] .colab-df-convert:hover {\n",
              "      background-color: #434B5C;\n",
              "      box-shadow: 0px 1px 3px 1px rgba(0, 0, 0, 0.15);\n",
              "      filter: drop-shadow(0px 1px 2px rgba(0, 0, 0, 0.3));\n",
              "      fill: #FFFFFF;\n",
              "    }\n",
              "  </style>\n",
              "\n",
              "      <script>\n",
              "        const buttonEl =\n",
              "          document.querySelector('#df-28843cac-7f23-4117-9951-ab54fbb194c6 button.colab-df-convert');\n",
              "        buttonEl.style.display =\n",
              "          google.colab.kernel.accessAllowed ? 'block' : 'none';\n",
              "\n",
              "        async function convertToInteractive(key) {\n",
              "          const element = document.querySelector('#df-28843cac-7f23-4117-9951-ab54fbb194c6');\n",
              "          const dataTable =\n",
              "            await google.colab.kernel.invokeFunction('convertToInteractive',\n",
              "                                                     [key], {});\n",
              "          if (!dataTable) return;\n",
              "\n",
              "          const docLinkHtml = 'Like what you see? Visit the ' +\n",
              "            '<a target=\"_blank\" href=https://colab.research.google.com/notebooks/data_table.ipynb>data table notebook</a>'\n",
              "            + ' to learn more about interactive tables.';\n",
              "          element.innerHTML = '';\n",
              "          dataTable['output_type'] = 'display_data';\n",
              "          await google.colab.output.renderOutput(dataTable, element);\n",
              "          const docLink = document.createElement('div');\n",
              "          docLink.innerHTML = docLinkHtml;\n",
              "          element.appendChild(docLink);\n",
              "        }\n",
              "      </script>\n",
              "    </div>\n",
              "  </div>\n",
              "  "
            ]
          },
          "metadata": {},
          "execution_count": 5
        }
      ],
      "source": [
        "# Merge SpecimenFieldReport and ProjectInformation\n",
        "SpecimenFieldReport_new = SpecimenFieldReport.merge(ProjectInformation[['StructureType'\n",
        "                                                        , 'StructureNumberLevels'\n",
        "                                                        , 'StructureHeight'\n",
        "                                                        , 'SiteLattitude '\n",
        "                                                        , 'SiteLongitude'\n",
        "                                                        ,'ProjectID']]\n",
        "                          , on = 'ProjectID', how = 'left')\n",
        "\n",
        "# Now merge it with SpecimenCompressionTestResult\n",
        "Model_DF = SpecimenCompressionTestResult.merge(SpecimenFieldReport_new[['SiteTemperature'\n",
        "                                                        , 'SiteWeather'\n",
        "                                                        , 'BatchLabID'\n",
        "                                                        ,  'BatchTimeMolded'\n",
        "                                                        , 'BatchSpecimenSize'\n",
        "                                                        , 'BatchTemperature'\n",
        "                                                        , 'BatchUnitWeight'\n",
        "                                                        , 'BatchRequiredStrength'\n",
        "                                                        , 'StructureType'\n",
        "                                                        , 'StructureNumberLevels'\n",
        "                                                        , 'StructureHeight'\n",
        "                                                        , 'SiteLattitude '\n",
        "                                                        , 'SiteLongitude']]\n",
        "                          , on = 'BatchLabID', how = 'left')\n",
        "\n",
        "# Look at the top 4 rows\n",
        "Model_DF.head(4)"
      ]
    },
    {
      "cell_type": "markdown",
      "id": "af2a5ce3",
      "metadata": {
        "id": "af2a5ce3"
      },
      "source": [
        "### Subset and Prepare the data"
      ]
    },
    {
      "cell_type": "code",
      "execution_count": 6,
      "id": "c1d6f095",
      "metadata": {
        "id": "c1d6f095",
        "colab": {
          "base_uri": "https://localhost:8080/",
          "height": 238
        },
        "outputId": "57c4feb4-f3b3-4f7f-ee31-82c459563aae"
      },
      "outputs": [
        {
          "output_type": "execute_result",
          "data": {
            "text/plain": [
              "   SpecimenAgeTested  SpecimenMeasuredStrength  SiteTemperature  \\\n",
              "0                  7                      9860             79.0   \n",
              "1                 28                     10360             79.0   \n",
              "2                 28                     10300             79.0   \n",
              "3                 28                     10140             79.0   \n",
              "\n",
              "   BatchTemperature  BatchUnitWeight  BatchRequiredStrength  \\\n",
              "0              89.0            149.6                   8000   \n",
              "1              89.0            149.6                   8000   \n",
              "2              89.0            149.6                   8000   \n",
              "3              89.0            149.6                   8000   \n",
              "\n",
              "   StructureNumberLevels  StructureHeight  SiteLattitude   SiteLongitude  \\\n",
              "0                     34          418.375       36.161455       -86.7848   \n",
              "1                     34          418.375       36.161455       -86.7848   \n",
              "2                     34          418.375       36.161455       -86.7848   \n",
              "3                     34          418.375       36.161455       -86.7848   \n",
              "\n",
              "   BatchHourMolded  BatchMinutesMolded  \n",
              "0               12                  53  \n",
              "1               12                  53  \n",
              "2               12                  53  \n",
              "3               12                  53  "
            ],
            "text/html": [
              "\n",
              "  <div id=\"df-10d1b28e-10f3-45d1-b7c8-faba804c6a9f\">\n",
              "    <div class=\"colab-df-container\">\n",
              "      <div>\n",
              "<style scoped>\n",
              "    .dataframe tbody tr th:only-of-type {\n",
              "        vertical-align: middle;\n",
              "    }\n",
              "\n",
              "    .dataframe tbody tr th {\n",
              "        vertical-align: top;\n",
              "    }\n",
              "\n",
              "    .dataframe thead th {\n",
              "        text-align: right;\n",
              "    }\n",
              "</style>\n",
              "<table border=\"1\" class=\"dataframe\">\n",
              "  <thead>\n",
              "    <tr style=\"text-align: right;\">\n",
              "      <th></th>\n",
              "      <th>SpecimenAgeTested</th>\n",
              "      <th>SpecimenMeasuredStrength</th>\n",
              "      <th>SiteTemperature</th>\n",
              "      <th>BatchTemperature</th>\n",
              "      <th>BatchUnitWeight</th>\n",
              "      <th>BatchRequiredStrength</th>\n",
              "      <th>StructureNumberLevels</th>\n",
              "      <th>StructureHeight</th>\n",
              "      <th>SiteLattitude</th>\n",
              "      <th>SiteLongitude</th>\n",
              "      <th>BatchHourMolded</th>\n",
              "      <th>BatchMinutesMolded</th>\n",
              "    </tr>\n",
              "  </thead>\n",
              "  <tbody>\n",
              "    <tr>\n",
              "      <th>0</th>\n",
              "      <td>7</td>\n",
              "      <td>9860</td>\n",
              "      <td>79.0</td>\n",
              "      <td>89.0</td>\n",
              "      <td>149.6</td>\n",
              "      <td>8000</td>\n",
              "      <td>34</td>\n",
              "      <td>418.375</td>\n",
              "      <td>36.161455</td>\n",
              "      <td>-86.7848</td>\n",
              "      <td>12</td>\n",
              "      <td>53</td>\n",
              "    </tr>\n",
              "    <tr>\n",
              "      <th>1</th>\n",
              "      <td>28</td>\n",
              "      <td>10360</td>\n",
              "      <td>79.0</td>\n",
              "      <td>89.0</td>\n",
              "      <td>149.6</td>\n",
              "      <td>8000</td>\n",
              "      <td>34</td>\n",
              "      <td>418.375</td>\n",
              "      <td>36.161455</td>\n",
              "      <td>-86.7848</td>\n",
              "      <td>12</td>\n",
              "      <td>53</td>\n",
              "    </tr>\n",
              "    <tr>\n",
              "      <th>2</th>\n",
              "      <td>28</td>\n",
              "      <td>10300</td>\n",
              "      <td>79.0</td>\n",
              "      <td>89.0</td>\n",
              "      <td>149.6</td>\n",
              "      <td>8000</td>\n",
              "      <td>34</td>\n",
              "      <td>418.375</td>\n",
              "      <td>36.161455</td>\n",
              "      <td>-86.7848</td>\n",
              "      <td>12</td>\n",
              "      <td>53</td>\n",
              "    </tr>\n",
              "    <tr>\n",
              "      <th>3</th>\n",
              "      <td>28</td>\n",
              "      <td>10140</td>\n",
              "      <td>79.0</td>\n",
              "      <td>89.0</td>\n",
              "      <td>149.6</td>\n",
              "      <td>8000</td>\n",
              "      <td>34</td>\n",
              "      <td>418.375</td>\n",
              "      <td>36.161455</td>\n",
              "      <td>-86.7848</td>\n",
              "      <td>12</td>\n",
              "      <td>53</td>\n",
              "    </tr>\n",
              "  </tbody>\n",
              "</table>\n",
              "</div>\n",
              "      <button class=\"colab-df-convert\" onclick=\"convertToInteractive('df-10d1b28e-10f3-45d1-b7c8-faba804c6a9f')\"\n",
              "              title=\"Convert this dataframe to an interactive table.\"\n",
              "              style=\"display:none;\">\n",
              "        \n",
              "  <svg xmlns=\"http://www.w3.org/2000/svg\" height=\"24px\"viewBox=\"0 0 24 24\"\n",
              "       width=\"24px\">\n",
              "    <path d=\"M0 0h24v24H0V0z\" fill=\"none\"/>\n",
              "    <path d=\"M18.56 5.44l.94 2.06.94-2.06 2.06-.94-2.06-.94-.94-2.06-.94 2.06-2.06.94zm-11 1L8.5 8.5l.94-2.06 2.06-.94-2.06-.94L8.5 2.5l-.94 2.06-2.06.94zm10 10l.94 2.06.94-2.06 2.06-.94-2.06-.94-.94-2.06-.94 2.06-2.06.94z\"/><path d=\"M17.41 7.96l-1.37-1.37c-.4-.4-.92-.59-1.43-.59-.52 0-1.04.2-1.43.59L10.3 9.45l-7.72 7.72c-.78.78-.78 2.05 0 2.83L4 21.41c.39.39.9.59 1.41.59.51 0 1.02-.2 1.41-.59l7.78-7.78 2.81-2.81c.8-.78.8-2.07 0-2.86zM5.41 20L4 18.59l7.72-7.72 1.47 1.35L5.41 20z\"/>\n",
              "  </svg>\n",
              "      </button>\n",
              "      \n",
              "  <style>\n",
              "    .colab-df-container {\n",
              "      display:flex;\n",
              "      flex-wrap:wrap;\n",
              "      gap: 12px;\n",
              "    }\n",
              "\n",
              "    .colab-df-convert {\n",
              "      background-color: #E8F0FE;\n",
              "      border: none;\n",
              "      border-radius: 50%;\n",
              "      cursor: pointer;\n",
              "      display: none;\n",
              "      fill: #1967D2;\n",
              "      height: 32px;\n",
              "      padding: 0 0 0 0;\n",
              "      width: 32px;\n",
              "    }\n",
              "\n",
              "    .colab-df-convert:hover {\n",
              "      background-color: #E2EBFA;\n",
              "      box-shadow: 0px 1px 2px rgba(60, 64, 67, 0.3), 0px 1px 3px 1px rgba(60, 64, 67, 0.15);\n",
              "      fill: #174EA6;\n",
              "    }\n",
              "\n",
              "    [theme=dark] .colab-df-convert {\n",
              "      background-color: #3B4455;\n",
              "      fill: #D2E3FC;\n",
              "    }\n",
              "\n",
              "    [theme=dark] .colab-df-convert:hover {\n",
              "      background-color: #434B5C;\n",
              "      box-shadow: 0px 1px 3px 1px rgba(0, 0, 0, 0.15);\n",
              "      filter: drop-shadow(0px 1px 2px rgba(0, 0, 0, 0.3));\n",
              "      fill: #FFFFFF;\n",
              "    }\n",
              "  </style>\n",
              "\n",
              "      <script>\n",
              "        const buttonEl =\n",
              "          document.querySelector('#df-10d1b28e-10f3-45d1-b7c8-faba804c6a9f button.colab-df-convert');\n",
              "        buttonEl.style.display =\n",
              "          google.colab.kernel.accessAllowed ? 'block' : 'none';\n",
              "\n",
              "        async function convertToInteractive(key) {\n",
              "          const element = document.querySelector('#df-10d1b28e-10f3-45d1-b7c8-faba804c6a9f');\n",
              "          const dataTable =\n",
              "            await google.colab.kernel.invokeFunction('convertToInteractive',\n",
              "                                                     [key], {});\n",
              "          if (!dataTable) return;\n",
              "\n",
              "          const docLinkHtml = 'Like what you see? Visit the ' +\n",
              "            '<a target=\"_blank\" href=https://colab.research.google.com/notebooks/data_table.ipynb>data table notebook</a>'\n",
              "            + ' to learn more about interactive tables.';\n",
              "          element.innerHTML = '';\n",
              "          dataTable['output_type'] = 'display_data';\n",
              "          await google.colab.output.renderOutput(dataTable, element);\n",
              "          const docLink = document.createElement('div');\n",
              "          docLink.innerHTML = docLinkHtml;\n",
              "          element.appendChild(docLink);\n",
              "        }\n",
              "      </script>\n",
              "    </div>\n",
              "  </div>\n",
              "  "
            ]
          },
          "metadata": {},
          "execution_count": 6
        }
      ],
      "source": [
        "# Subset the data and select only the required columns\n",
        "Model_DF_Sub = Model_DF[['ReportDateIssued', 'SpecimenAgeTested', 'SpecimenDateTested', 'SpecimenMeasuredStrength'\n",
        "                         , 'StructureType',  'SiteTemperature',  'BatchTimeMolded', 'BatchSpecimenSize'\n",
        "                         , 'BatchTemperature' , 'BatchUnitWeight' , 'BatchRequiredStrength'\n",
        "                         , 'StructureNumberLevels' , 'StructureHeight' , 'SiteLattitude ' , 'SiteLongitude' ]].copy()\n",
        "\n",
        "# Create three new fields for Batch Molded Date,hour, and minute\n",
        "Model_DF_Sub['BatchDateMolded'] = Model_DF_Sub['BatchTimeMolded'].dt.date\n",
        "Model_DF_Sub['BatchHourMolded'] = Model_DF_Sub['BatchTimeMolded'].dt.hour\n",
        "Model_DF_Sub['BatchMinutesMolded'] = Model_DF_Sub['BatchTimeMolded'].dt.minute\n",
        "\n",
        "\n",
        "# Subset it further to remove the redundant columns\n",
        "Model_DF_new = Model_DF_Sub[['SpecimenAgeTested', 'SpecimenMeasuredStrength'\n",
        "                         , 'SiteTemperature', 'BatchTemperature' , 'BatchUnitWeight' \n",
        "                         , 'BatchRequiredStrength', 'StructureNumberLevels' , 'StructureHeight' \n",
        "                         , 'SiteLattitude ' , 'SiteLongitude' , 'BatchHourMolded', 'BatchMinutesMolded']]\n",
        "\n",
        "# Drop Null values\n",
        "Model_DF_new = Model_DF_new.dropna()\n",
        "\n",
        "# Change Data types and do some data cleaning\n",
        "Model_DF_new['BatchMinutesMolded'] = Model_DF_new['BatchMinutesMolded'].astype('int')\n",
        "Model_DF_new['BatchHourMolded'] = Model_DF_new['BatchHourMolded'].astype('int')\n",
        "Model_DF_new['BatchRequiredStrength'] = Model_DF_new['BatchRequiredStrength'].astype(str)\n",
        "Model_DF_new['BatchRequiredStrength'] = Model_DF_new['BatchRequiredStrength'].replace(r'[^0-9]', '', regex=True)\n",
        "Model_DF_new['BatchRequiredStrength'] = Model_DF_new['BatchRequiredStrength'].astype('int')\n",
        "Model_DF_new['SiteLongitude'] = Model_DF_new['SiteLongitude'].astype('float')\n",
        "\n",
        "# Subset the data for only 7,28 and 56 days\n",
        "Model_DF_new = Model_DF_new[Model_DF_new[\"SpecimenAgeTested\"].isin([7, 28, 56])].reset_index(drop=True)\n",
        "#Model_DF_new = Model_DF_new[Model_DF_new[\"SpecimenMeasuredStrength\"] < 16000].reset_index(drop=True)\n",
        "\n",
        "# Export this data as csv \n",
        "#Model_DF_new.to_csv('Model_Data.csv', index=False)\n",
        "\n",
        "# Look at the top 4 rows of this dataset\n",
        "Model_DF_new.head(4)         "
      ]
    },
    {
      "cell_type": "code",
      "source": [
        "Model_DF_new.groupby(['SiteLattitude '])['SiteLattitude '].count()"
      ],
      "metadata": {
        "colab": {
          "base_uri": "https://localhost:8080/"
        },
        "id": "Kru8T2hbl7fI",
        "outputId": "2fd934d8-528f-4be8-fda5-e7bd1a0feb3e"
      },
      "id": "Kru8T2hbl7fI",
      "execution_count": 7,
      "outputs": [
        {
          "output_type": "execute_result",
          "data": {
            "text/plain": [
              "SiteLattitude \n",
              "36.161263     750\n",
              "36.161455    1302\n",
              "41.429539     420\n",
              "Name: SiteLattitude , dtype: int64"
            ]
          },
          "metadata": {},
          "execution_count": 7
        }
      ]
    },
    {
      "cell_type": "markdown",
      "id": "275056fb",
      "metadata": {
        "id": "275056fb"
      },
      "source": [
        "### Get Started with the Model"
      ]
    },
    {
      "cell_type": "code",
      "execution_count": 8,
      "id": "0f16e80a",
      "metadata": {
        "id": "0f16e80a"
      },
      "outputs": [],
      "source": [
        "# Import the fast ai library\n",
        "from fastai.tabular.all import *"
      ]
    },
    {
      "cell_type": "code",
      "execution_count": 9,
      "id": "e6615970",
      "metadata": {
        "id": "e6615970"
      },
      "outputs": [],
      "source": [
        "# Set random state for reproducability of the results\n",
        "np.random.seed(123)\n",
        "\n",
        "# Split the data  between test (20%) and train (80%)\n",
        "\n",
        "index = np.random.rand(len(Model_DF_new)) < 0.8\n",
        "train_df = Model_DF_new[index].copy()\n",
        "test_df = Model_DF_new[~index].copy()\n",
        "\n",
        "# scale y variable to natural log since the range is huge\n",
        "train_df['SpecimenMeasuredStrength'] = np.log(train_df['SpecimenMeasuredStrength'])"
      ]
    },
    {
      "cell_type": "markdown",
      "id": "233303bf",
      "metadata": {
        "id": "233303bf"
      },
      "source": [
        "#### Create Aritifical Nueral Network With FastAi Tabular"
      ]
    },
    {
      "cell_type": "code",
      "source": [
        "# Split your training set into training and validation (to evaluate on the unseen data)\n",
        "splits = RandomSplitter(valid_pct=0.2)(range_of(train_df))\n",
        "\n",
        "# Define the your Datablock\n",
        "to = TabularPandas(train_df, procs=[Categorify, Normalize],\n",
        "                   cat_names = ['SpecimenAgeTested'],\n",
        "                   cont_names = list(train_df.drop(columns=['SpecimenMeasuredStrength', 'SpecimenAgeTested']).columns.values),\n",
        "                   y_names='SpecimenMeasuredStrength',\n",
        "                   y_block=RegressionBlock(),\n",
        "                   splits=splits)\n",
        "\n",
        "# Define your batch size in your dataloader\n",
        "dls = to.dataloaders(bs=64)\n",
        "\n",
        "# Define Network for your Model\n",
        "learn = tabular_learner(dls, metrics= [rmse]\n",
        "                        , layers=[300,200,100,50]\n",
        "                        , opt_func=Adam)\n",
        "\n",
        "#learn.summary()"
      ],
      "metadata": {
        "id": "v58OCe8kknA5"
      },
      "id": "v58OCe8kknA5",
      "execution_count": 146,
      "outputs": []
    },
    {
      "cell_type": "code",
      "execution_count": 147,
      "id": "2003c519",
      "metadata": {
        "scrolled": true,
        "colab": {
          "base_uri": "https://localhost:8080/",
          "height": 454
        },
        "id": "2003c519",
        "outputId": "06936015-0c97-4ef1-90da-8d1856f9f03c"
      },
      "outputs": [
        {
          "output_type": "display_data",
          "data": {
            "text/plain": [
              "<IPython.core.display.HTML object>"
            ],
            "text/html": [
              "\n",
              "<style>\n",
              "    /* Turns off some styling */\n",
              "    progress {\n",
              "        /* gets rid of default border in Firefox and Opera. */\n",
              "        border: none;\n",
              "        /* Needs to be in here for Safari polyfill so background images work as expected. */\n",
              "        background-size: auto;\n",
              "    }\n",
              "    progress:not([value]), progress:not([value])::-webkit-progress-bar {\n",
              "        background: repeating-linear-gradient(45deg, #7e7e7e, #7e7e7e 10px, #5c5c5c 10px, #5c5c5c 20px);\n",
              "    }\n",
              "    .progress-bar-interrupted, .progress-bar-interrupted::-webkit-progress-bar {\n",
              "        background: #F44336;\n",
              "    }\n",
              "</style>\n"
            ]
          },
          "metadata": {}
        },
        {
          "output_type": "display_data",
          "data": {
            "text/plain": [
              "<IPython.core.display.HTML object>"
            ],
            "text/html": []
          },
          "metadata": {}
        },
        {
          "output_type": "display_data",
          "data": {
            "text/plain": [
              "<Figure size 640x480 with 1 Axes>"
            ],
            "image/png": "[encoded data removed]"
          },
          "metadata": {}
        }
      ],
      "source": [
        "# Find the Learning Rate\n",
        "valley  = learn.lr_find()"
      ]
    },
    {
      "cell_type": "code",
      "execution_count": 148,
      "id": "861dd709",
      "metadata": {
        "colab": {
          "base_uri": "https://localhost:8080/",
          "height": 770
        },
        "id": "861dd709",
        "outputId": "1f622a12-7c31-408f-fdeb-d1e6852b8f2c"
      },
      "outputs": [
        {
          "output_type": "display_data",
          "data": {
            "text/plain": [
              "<IPython.core.display.HTML object>"
            ],
            "text/html": [
              "\n",
              "<style>\n",
              "    /* Turns off some styling */\n",
              "    progress {\n",
              "        /* gets rid of default border in Firefox and Opera. */\n",
              "        border: none;\n",
              "        /* Needs to be in here for Safari polyfill so background images work as expected. */\n",
              "        background-size: auto;\n",
              "    }\n",
              "    progress:not([value]), progress:not([value])::-webkit-progress-bar {\n",
              "        background: repeating-linear-gradient(45deg, #7e7e7e, #7e7e7e 10px, #5c5c5c 10px, #5c5c5c 20px);\n",
              "    }\n",
              "    .progress-bar-interrupted, .progress-bar-interrupted::-webkit-progress-bar {\n",
              "        background: #F44336;\n",
              "    }\n",
              "</style>\n"
            ]
          },
          "metadata": {}
        },
        {
          "output_type": "display_data",
          "data": {
            "text/plain": [
              "<IPython.core.display.HTML object>"
            ],
            "text/html": [
              "<table border=\"1\" class=\"dataframe\">\n",
              "  <thead>\n",
              "    <tr style=\"text-align: left;\">\n",
              "      <th>epoch</th>\n",
              "      <th>train_loss</th>\n",
              "      <th>valid_loss</th>\n",
              "      <th>_rmse</th>\n",
              "      <th>time</th>\n",
              "    </tr>\n",
              "  </thead>\n",
              "  <tbody>\n",
              "    <tr>\n",
              "      <td>0</td>\n",
              "      <td>82.797020</td>\n",
              "      <td>82.402153</td>\n",
              "      <td>9.077563</td>\n",
              "      <td>00:00</td>\n",
              "    </tr>\n",
              "    <tr>\n",
              "      <td>1</td>\n",
              "      <td>81.435631</td>\n",
              "      <td>80.737663</td>\n",
              "      <td>8.985414</td>\n",
              "      <td>00:00</td>\n",
              "    </tr>\n",
              "    <tr>\n",
              "      <td>2</td>\n",
              "      <td>75.503098</td>\n",
              "      <td>61.790413</td>\n",
              "      <td>7.860688</td>\n",
              "      <td>00:00</td>\n",
              "    </tr>\n",
              "    <tr>\n",
              "      <td>3</td>\n",
              "      <td>55.966942</td>\n",
              "      <td>12.832235</td>\n",
              "      <td>3.582211</td>\n",
              "      <td>00:00</td>\n",
              "    </tr>\n",
              "    <tr>\n",
              "      <td>4</td>\n",
              "      <td>32.982288</td>\n",
              "      <td>0.508727</td>\n",
              "      <td>0.713251</td>\n",
              "      <td>00:00</td>\n",
              "    </tr>\n",
              "    <tr>\n",
              "      <td>5</td>\n",
              "      <td>19.650410</td>\n",
              "      <td>0.101556</td>\n",
              "      <td>0.318679</td>\n",
              "      <td>00:00</td>\n",
              "    </tr>\n",
              "    <tr>\n",
              "      <td>6</td>\n",
              "      <td>11.864372</td>\n",
              "      <td>0.066749</td>\n",
              "      <td>0.258358</td>\n",
              "      <td>00:00</td>\n",
              "    </tr>\n",
              "    <tr>\n",
              "      <td>7</td>\n",
              "      <td>7.232322</td>\n",
              "      <td>0.088777</td>\n",
              "      <td>0.297955</td>\n",
              "      <td>00:00</td>\n",
              "    </tr>\n",
              "    <tr>\n",
              "      <td>8</td>\n",
              "      <td>4.440492</td>\n",
              "      <td>0.040010</td>\n",
              "      <td>0.200025</td>\n",
              "      <td>00:00</td>\n",
              "    </tr>\n",
              "    <tr>\n",
              "      <td>9</td>\n",
              "      <td>2.738282</td>\n",
              "      <td>0.047438</td>\n",
              "      <td>0.217802</td>\n",
              "      <td>00:00</td>\n",
              "    </tr>\n",
              "    <tr>\n",
              "      <td>10</td>\n",
              "      <td>1.699079</td>\n",
              "      <td>0.036352</td>\n",
              "      <td>0.190663</td>\n",
              "      <td>00:00</td>\n",
              "    </tr>\n",
              "    <tr>\n",
              "      <td>11</td>\n",
              "      <td>1.062497</td>\n",
              "      <td>0.034955</td>\n",
              "      <td>0.186963</td>\n",
              "      <td>00:00</td>\n",
              "    </tr>\n",
              "    <tr>\n",
              "      <td>12</td>\n",
              "      <td>0.670388</td>\n",
              "      <td>0.074804</td>\n",
              "      <td>0.273503</td>\n",
              "      <td>00:00</td>\n",
              "    </tr>\n",
              "    <tr>\n",
              "      <td>13</td>\n",
              "      <td>0.431220</td>\n",
              "      <td>0.028136</td>\n",
              "      <td>0.167739</td>\n",
              "      <td>00:00</td>\n",
              "    </tr>\n",
              "    <tr>\n",
              "      <td>14</td>\n",
              "      <td>0.280176</td>\n",
              "      <td>0.033029</td>\n",
              "      <td>0.181738</td>\n",
              "      <td>00:00</td>\n",
              "    </tr>\n",
              "    <tr>\n",
              "      <td>15</td>\n",
              "      <td>0.188811</td>\n",
              "      <td>0.043850</td>\n",
              "      <td>0.209404</td>\n",
              "      <td>00:00</td>\n",
              "    </tr>\n",
              "    <tr>\n",
              "      <td>16</td>\n",
              "      <td>0.127983</td>\n",
              "      <td>0.019689</td>\n",
              "      <td>0.140316</td>\n",
              "      <td>00:00</td>\n",
              "    </tr>\n",
              "    <tr>\n",
              "      <td>17</td>\n",
              "      <td>0.091843</td>\n",
              "      <td>0.025336</td>\n",
              "      <td>0.159174</td>\n",
              "      <td>00:00</td>\n",
              "    </tr>\n",
              "    <tr>\n",
              "      <td>18</td>\n",
              "      <td>0.068268</td>\n",
              "      <td>0.017376</td>\n",
              "      <td>0.131819</td>\n",
              "      <td>00:00</td>\n",
              "    </tr>\n",
              "    <tr>\n",
              "      <td>19</td>\n",
              "      <td>0.052450</td>\n",
              "      <td>0.019718</td>\n",
              "      <td>0.140421</td>\n",
              "      <td>00:00</td>\n",
              "    </tr>\n",
              "    <tr>\n",
              "      <td>20</td>\n",
              "      <td>0.042451</td>\n",
              "      <td>0.020744</td>\n",
              "      <td>0.144028</td>\n",
              "      <td>00:00</td>\n",
              "    </tr>\n",
              "    <tr>\n",
              "      <td>21</td>\n",
              "      <td>0.037245</td>\n",
              "      <td>0.017850</td>\n",
              "      <td>0.133604</td>\n",
              "      <td>00:00</td>\n",
              "    </tr>\n",
              "    <tr>\n",
              "      <td>22</td>\n",
              "      <td>0.032681</td>\n",
              "      <td>0.017817</td>\n",
              "      <td>0.133479</td>\n",
              "      <td>00:00</td>\n",
              "    </tr>\n",
              "  </tbody>\n",
              "</table>"
            ]
          },
          "metadata": {}
        }
      ],
      "source": [
        "# Train your Model for the 23 epochs (cycles)\n",
        "learn.fit_one_cycle(23 ,valley[0])"
      ]
    },
    {
      "cell_type": "code",
      "source": [
        "# The exp of RMSE value\n",
        "learn.recorder.values[-1][2]"
      ],
      "metadata": {
        "colab": {
          "base_uri": "https://localhost:8080/"
        },
        "id": "VOEQMmvJi-Kq",
        "outputId": "5184cd4d-5935-425b-8425-803cdaa29969"
      },
      "id": "VOEQMmvJi-Kq",
      "execution_count": 149,
      "outputs": [
        {
          "output_type": "execute_result",
          "data": {
            "text/plain": [
              "0.13347852230072021"
            ]
          },
          "metadata": {},
          "execution_count": 149
        }
      ]
    },
    {
      "cell_type": "markdown",
      "source": [
        "#### Function to get Importance Plot"
      ],
      "metadata": {
        "id": "iHTqDqKR-9s_"
      },
      "id": "iHTqDqKR-9s_"
    },
    {
      "cell_type": "code",
      "source": [
        "class PermutationImportance():\n",
        "  \"Calculate and plot the permutation importance\"\n",
        "  def __init__(self, learn:Learner, df=None, bs=None):\n",
        "    \"Initialize with a test dataframe, a learner, and a metric\"\n",
        "    self.learn = learn\n",
        "    self.df = df\n",
        "    bs = bs if bs is not None else learn.dls.bs\n",
        "    if self.df is not None:\n",
        "      self.dl = learn.dls.test_dl(self.df, bs=bs)\n",
        "    else:\n",
        "      self.dl = learn.dls[1]\n",
        "    self.x_names = learn.dls.x_names.filter(lambda x: '_na' not in x)\n",
        "    self.na = learn.dls.x_names.filter(lambda x: '_na' in x)\n",
        "    self.y = dls.y_names\n",
        "    self.results = self.calc_feat_importance()\n",
        "    self.plot_importance(self.ord_dic_to_df(self.results))\n",
        "\n",
        "  def measure_col(self, name:str):\n",
        "    \"Measures change after column shuffle\"\n",
        "    col = [name]\n",
        "    if f'{name}_na' in self.na: col.append(name)\n",
        "    orig = self.dl.items[col].values\n",
        "    perm = np.random.permutation(len(orig))\n",
        "    self.dl.items[col] = self.dl.items[col].values[perm]\n",
        "    metric = learn.validate(dl=self.dl)[1]\n",
        "    self.dl.items[col] = orig\n",
        "    return metric\n",
        "\n",
        "  def calc_feat_importance(self):\n",
        "    \"Calculates permutation importance by shuffling a column on a percentage scale\"\n",
        "    print('Getting base error')\n",
        "    base_error = self.learn.validate(dl=self.dl)[1]\n",
        "    self.importance = {}\n",
        "    pbar = progress_bar(self.x_names)\n",
        "    print('Calculating Permutation Importance')\n",
        "    for col in pbar:\n",
        "      self.importance[col] = self.measure_col(col)\n",
        "    for key, value in self.importance.items():\n",
        "      self.importance[key] = (base_error-value)/base_error #this can be adjusted\n",
        "    return OrderedDict(sorted(self.importance.items(), key=lambda kv: kv[1], reverse=True))\n",
        "\n",
        "  def ord_dic_to_df(self, dict:OrderedDict):\n",
        "    return pd.DataFrame([[k, v] for k, v in dict.items()], columns=['feature', 'importance'])\n",
        "\n",
        "  def plot_importance(self, df:pd.DataFrame, limit=20, asc=False, **kwargs):\n",
        "    \"Plot importance with an optional limit to how many variables shown\"\n",
        "    df_copy = df.copy()\n",
        "    df_copy['feature'] = df_copy['feature'].str.slice(0,25)\n",
        "    df_copy = df_copy.sort_values(by='importance', ascending=asc)[:limit].sort_values(by='importance', ascending=not(asc))\n",
        "    ax = df_copy.plot.barh(x='feature', y='importance', sort_columns=True, **kwargs)\n",
        "    for p in ax.patches:\n",
        "      ax.annotate(f'{p.get_width():.4f}', ((p.get_width() * 1.005), p.get_y()  * 1.005))\n",
        "     \n",
        "     # Reference : https://walkwithfastai.com/Regression_and_Permutation_Importance"
      ],
      "metadata": {
        "id": "O0D0SjESZTMW"
      },
      "id": "O0D0SjESZTMW",
      "execution_count": 150,
      "outputs": []
    },
    {
      "cell_type": "code",
      "source": [
        "# Get the Importance plot for your trained network\n",
        "res = PermutationImportance(learn, train_df.iloc[:], bs=64)"
      ],
      "metadata": {
        "colab": {
          "base_uri": "https://localhost:8080/",
          "height": 485
        },
        "id": "eFt9XS3oX_bI",
        "outputId": "59f6f1db-73be-47dd-c84c-07c9c7550933"
      },
      "id": "eFt9XS3oX_bI",
      "execution_count": 151,
      "outputs": [
        {
          "output_type": "stream",
          "name": "stdout",
          "text": [
            "Getting base error\n"
          ]
        },
        {
          "output_type": "display_data",
          "data": {
            "text/plain": [
              "<IPython.core.display.HTML object>"
            ],
            "text/html": [
              "\n",
              "<style>\n",
              "    /* Turns off some styling */\n",
              "    progress {\n",
              "        /* gets rid of default border in Firefox and Opera. */\n",
              "        border: none;\n",
              "        /* Needs to be in here for Safari polyfill so background images work as expected. */\n",
              "        background-size: auto;\n",
              "    }\n",
              "    progress:not([value]), progress:not([value])::-webkit-progress-bar {\n",
              "        background: repeating-linear-gradient(45deg, #7e7e7e, #7e7e7e 10px, #5c5c5c 10px, #5c5c5c 20px);\n",
              "    }\n",
              "    .progress-bar-interrupted, .progress-bar-interrupted::-webkit-progress-bar {\n",
              "        background: #F44336;\n",
              "    }\n",
              "</style>\n"
            ]
          },
          "metadata": {}
        },
        {
          "output_type": "display_data",
          "data": {
            "text/plain": [
              "<IPython.core.display.HTML object>"
            ],
            "text/html": []
          },
          "metadata": {}
        },
        {
          "output_type": "stream",
          "name": "stdout",
          "text": [
            "Calculating Permutation Importance\n"
          ]
        },
        {
          "output_type": "display_data",
          "data": {
            "text/plain": [
              "<IPython.core.display.HTML object>"
            ],
            "text/html": [
              "\n",
              "<style>\n",
              "    /* Turns off some styling */\n",
              "    progress {\n",
              "        /* gets rid of default border in Firefox and Opera. */\n",
              "        border: none;\n",
              "        /* Needs to be in here for Safari polyfill so background images work as expected. */\n",
              "        background-size: auto;\n",
              "    }\n",
              "    progress:not([value]), progress:not([value])::-webkit-progress-bar {\n",
              "        background: repeating-linear-gradient(45deg, #7e7e7e, #7e7e7e 10px, #5c5c5c 10px, #5c5c5c 20px);\n",
              "    }\n",
              "    .progress-bar-interrupted, .progress-bar-interrupted::-webkit-progress-bar {\n",
              "        background: #F44336;\n",
              "    }\n",
              "</style>\n"
            ]
          },
          "metadata": {}
        },
        {
          "output_type": "display_data",
          "data": {
            "text/plain": [
              "<IPython.core.display.HTML object>"
            ],
            "text/html": [
              "\n",
              "    <div>\n",
              "      <progress value='11' class='' max='11' style='width:300px; height:20px; vertical-align: middle;'></progress>\n",
              "      100.00% [11/11 00:03&lt;00:00]\n",
              "    </div>\n",
              "    "
            ]
          },
          "metadata": {}
        },
        {
          "output_type": "display_data",
          "data": {
            "text/plain": [
              "<IPython.core.display.HTML object>"
            ],
            "text/html": [
              "\n",
              "<style>\n",
              "    /* Turns off some styling */\n",
              "    progress {\n",
              "        /* gets rid of default border in Firefox and Opera. */\n",
              "        border: none;\n",
              "        /* Needs to be in here for Safari polyfill so background images work as expected. */\n",
              "        background-size: auto;\n",
              "    }\n",
              "    progress:not([value]), progress:not([value])::-webkit-progress-bar {\n",
              "        background: repeating-linear-gradient(45deg, #7e7e7e, #7e7e7e 10px, #5c5c5c 10px, #5c5c5c 20px);\n",
              "    }\n",
              "    .progress-bar-interrupted, .progress-bar-interrupted::-webkit-progress-bar {\n",
              "        background: #F44336;\n",
              "    }\n",
              "</style>\n"
            ]
          },
          "metadata": {}
        },
        {
          "output_type": "display_data",
          "data": {
            "text/plain": [
              "<IPython.core.display.HTML object>"
            ],
            "text/html": []
          },
          "metadata": {}
        },
        {
          "output_type": "display_data",
          "data": {
            "text/plain": [
              "<IPython.core.display.HTML object>"
            ],
            "text/html": [
              "\n",
              "<style>\n",
              "    /* Turns off some styling */\n",
              "    progress {\n",
              "        /* gets rid of default border in Firefox and Opera. */\n",
              "        border: none;\n",
              "        /* Needs to be in here for Safari polyfill so background images work as expected. */\n",
              "        background-size: auto;\n",
              "    }\n",
              "    progress:not([value]), progress:not([value])::-webkit-progress-bar {\n",
              "        background: repeating-linear-gradient(45deg, #7e7e7e, #7e7e7e 10px, #5c5c5c 10px, #5c5c5c 20px);\n",
              "    }\n",
              "    .progress-bar-interrupted, .progress-bar-interrupted::-webkit-progress-bar {\n",
              "        background: #F44336;\n",
              "    }\n",
              "</style>\n"
            ]
          },
          "metadata": {}
        },
        {
          "output_type": "display_data",
          "data": {
            "text/plain": [
              "<IPython.core.display.HTML object>"
            ],
            "text/html": []
          },
          "metadata": {}
        },
        {
          "output_type": "display_data",
          "data": {
            "text/plain": [
              "<IPython.core.display.HTML object>"
            ],
            "text/html": [
              "\n",
              "<style>\n",
              "    /* Turns off some styling */\n",
              "    progress {\n",
              "        /* gets rid of default border in Firefox and Opera. */\n",
              "        border: none;\n",
              "        /* Needs to be in here for Safari polyfill so background images work as expected. */\n",
              "        background-size: auto;\n",
              "    }\n",
              "    progress:not([value]), progress:not([value])::-webkit-progress-bar {\n",
              "        background: repeating-linear-gradient(45deg, #7e7e7e, #7e7e7e 10px, #5c5c5c 10px, #5c5c5c 20px);\n",
              "    }\n",
              "    .progress-bar-interrupted, .progress-bar-interrupted::-webkit-progress-bar {\n",
              "        background: #F44336;\n",
              "    }\n",
              "</style>\n"
            ]
          },
          "metadata": {}
        },
        {
          "output_type": "display_data",
          "data": {
            "text/plain": [
              "<IPython.core.display.HTML object>"
            ],
            "text/html": []
          },
          "metadata": {}
        },
        {
          "output_type": "display_data",
          "data": {
            "text/plain": [
              "<IPython.core.display.HTML object>"
            ],
            "text/html": [
              "\n",
              "<style>\n",
              "    /* Turns off some styling */\n",
              "    progress {\n",
              "        /* gets rid of default border in Firefox and Opera. */\n",
              "        border: none;\n",
              "        /* Needs to be in here for Safari polyfill so background images work as expected. */\n",
              "        background-size: auto;\n",
              "    }\n",
              "    progress:not([value]), progress:not([value])::-webkit-progress-bar {\n",
              "        background: repeating-linear-gradient(45deg, #7e7e7e, #7e7e7e 10px, #5c5c5c 10px, #5c5c5c 20px);\n",
              "    }\n",
              "    .progress-bar-interrupted, .progress-bar-interrupted::-webkit-progress-bar {\n",
              "        background: #F44336;\n",
              "    }\n",
              "</style>\n"
            ]
          },
          "metadata": {}
        },
        {
          "output_type": "display_data",
          "data": {
            "text/plain": [
              "<IPython.core.display.HTML object>"
            ],
            "text/html": []
          },
          "metadata": {}
        },
        {
          "output_type": "display_data",
          "data": {
            "text/plain": [
              "<IPython.core.display.HTML object>"
            ],
            "text/html": [
              "\n",
              "<style>\n",
              "    /* Turns off some styling */\n",
              "    progress {\n",
              "        /* gets rid of default border in Firefox and Opera. */\n",
              "        border: none;\n",
              "        /* Needs to be in here for Safari polyfill so background images work as expected. */\n",
              "        background-size: auto;\n",
              "    }\n",
              "    progress:not([value]), progress:not([value])::-webkit-progress-bar {\n",
              "        background: repeating-linear-gradient(45deg, #7e7e7e, #7e7e7e 10px, #5c5c5c 10px, #5c5c5c 20px);\n",
              "    }\n",
              "    .progress-bar-interrupted, .progress-bar-interrupted::-webkit-progress-bar {\n",
              "        background: #F44336;\n",
              "    }\n",
              "</style>\n"
            ]
          },
          "metadata": {}
        },
        {
          "output_type": "display_data",
          "data": {
            "text/plain": [
              "<IPython.core.display.HTML object>"
            ],
            "text/html": []
          },
          "metadata": {}
        },
        {
          "output_type": "display_data",
          "data": {
            "text/plain": [
              "<IPython.core.display.HTML object>"
            ],
            "text/html": [
              "\n",
              "<style>\n",
              "    /* Turns off some styling */\n",
              "    progress {\n",
              "        /* gets rid of default border in Firefox and Opera. */\n",
              "        border: none;\n",
              "        /* Needs to be in here for Safari polyfill so background images work as expected. */\n",
              "        background-size: auto;\n",
              "    }\n",
              "    progress:not([value]), progress:not([value])::-webkit-progress-bar {\n",
              "        background: repeating-linear-gradient(45deg, #7e7e7e, #7e7e7e 10px, #5c5c5c 10px, #5c5c5c 20px);\n",
              "    }\n",
              "    .progress-bar-interrupted, .progress-bar-interrupted::-webkit-progress-bar {\n",
              "        background: #F44336;\n",
              "    }\n",
              "</style>\n"
            ]
          },
          "metadata": {}
        },
        {
          "output_type": "display_data",
          "data": {
            "text/plain": [
              "<IPython.core.display.HTML object>"
            ],
            "text/html": []
          },
          "metadata": {}
        },
        {
          "output_type": "display_data",
          "data": {
            "text/plain": [
              "<IPython.core.display.HTML object>"
            ],
            "text/html": [
              "\n",
              "<style>\n",
              "    /* Turns off some styling */\n",
              "    progress {\n",
              "        /* gets rid of default border in Firefox and Opera. */\n",
              "        border: none;\n",
              "        /* Needs to be in here for Safari polyfill so background images work as expected. */\n",
              "        background-size: auto;\n",
              "    }\n",
              "    progress:not([value]), progress:not([value])::-webkit-progress-bar {\n",
              "        background: repeating-linear-gradient(45deg, #7e7e7e, #7e7e7e 10px, #5c5c5c 10px, #5c5c5c 20px);\n",
              "    }\n",
              "    .progress-bar-interrupted, .progress-bar-interrupted::-webkit-progress-bar {\n",
              "        background: #F44336;\n",
              "    }\n",
              "</style>\n"
            ]
          },
          "metadata": {}
        },
        {
          "output_type": "display_data",
          "data": {
            "text/plain": [
              "<IPython.core.display.HTML object>"
            ],
            "text/html": []
          },
          "metadata": {}
        },
        {
          "output_type": "display_data",
          "data": {
            "text/plain": [
              "<IPython.core.display.HTML object>"
            ],
            "text/html": [
              "\n",
              "<style>\n",
              "    /* Turns off some styling */\n",
              "    progress {\n",
              "        /* gets rid of default border in Firefox and Opera. */\n",
              "        border: none;\n",
              "        /* Needs to be in here for Safari polyfill so background images work as expected. */\n",
              "        background-size: auto;\n",
              "    }\n",
              "    progress:not([value]), progress:not([value])::-webkit-progress-bar {\n",
              "        background: repeating-linear-gradient(45deg, #7e7e7e, #7e7e7e 10px, #5c5c5c 10px, #5c5c5c 20px);\n",
              "    }\n",
              "    .progress-bar-interrupted, .progress-bar-interrupted::-webkit-progress-bar {\n",
              "        background: #F44336;\n",
              "    }\n",
              "</style>\n"
            ]
          },
          "metadata": {}
        },
        {
          "output_type": "display_data",
          "data": {
            "text/plain": [
              "<IPython.core.display.HTML object>"
            ],
            "text/html": []
          },
          "metadata": {}
        },
        {
          "output_type": "display_data",
          "data": {
            "text/plain": [
              "<IPython.core.display.HTML object>"
            ],
            "text/html": [
              "\n",
              "<style>\n",
              "    /* Turns off some styling */\n",
              "    progress {\n",
              "        /* gets rid of default border in Firefox and Opera. */\n",
              "        border: none;\n",
              "        /* Needs to be in here for Safari polyfill so background images work as expected. */\n",
              "        background-size: auto;\n",
              "    }\n",
              "    progress:not([value]), progress:not([value])::-webkit-progress-bar {\n",
              "        background: repeating-linear-gradient(45deg, #7e7e7e, #7e7e7e 10px, #5c5c5c 10px, #5c5c5c 20px);\n",
              "    }\n",
              "    .progress-bar-interrupted, .progress-bar-interrupted::-webkit-progress-bar {\n",
              "        background: #F44336;\n",
              "    }\n",
              "</style>\n"
            ]
          },
          "metadata": {}
        },
        {
          "output_type": "display_data",
          "data": {
            "text/plain": [
              "<IPython.core.display.HTML object>"
            ],
            "text/html": []
          },
          "metadata": {}
        },
        {
          "output_type": "display_data",
          "data": {
            "text/plain": [
              "<IPython.core.display.HTML object>"
            ],
            "text/html": [
              "\n",
              "<style>\n",
              "    /* Turns off some styling */\n",
              "    progress {\n",
              "        /* gets rid of default border in Firefox and Opera. */\n",
              "        border: none;\n",
              "        /* Needs to be in here for Safari polyfill so background images work as expected. */\n",
              "        background-size: auto;\n",
              "    }\n",
              "    progress:not([value]), progress:not([value])::-webkit-progress-bar {\n",
              "        background: repeating-linear-gradient(45deg, #7e7e7e, #7e7e7e 10px, #5c5c5c 10px, #5c5c5c 20px);\n",
              "    }\n",
              "    .progress-bar-interrupted, .progress-bar-interrupted::-webkit-progress-bar {\n",
              "        background: #F44336;\n",
              "    }\n",
              "</style>\n"
            ]
          },
          "metadata": {}
        },
        {
          "output_type": "display_data",
          "data": {
            "text/plain": [
              "<IPython.core.display.HTML object>"
            ],
            "text/html": []
          },
          "metadata": {}
        },
        {
          "output_type": "display_data",
          "data": {
            "text/plain": [
              "<IPython.core.display.HTML object>"
            ],
            "text/html": [
              "\n",
              "<style>\n",
              "    /* Turns off some styling */\n",
              "    progress {\n",
              "        /* gets rid of default border in Firefox and Opera. */\n",
              "        border: none;\n",
              "        /* Needs to be in here for Safari polyfill so background images work as expected. */\n",
              "        background-size: auto;\n",
              "    }\n",
              "    progress:not([value]), progress:not([value])::-webkit-progress-bar {\n",
              "        background: repeating-linear-gradient(45deg, #7e7e7e, #7e7e7e 10px, #5c5c5c 10px, #5c5c5c 20px);\n",
              "    }\n",
              "    .progress-bar-interrupted, .progress-bar-interrupted::-webkit-progress-bar {\n",
              "        background: #F44336;\n",
              "    }\n",
              "</style>\n"
            ]
          },
          "metadata": {}
        },
        {
          "output_type": "display_data",
          "data": {
            "text/plain": [
              "<IPython.core.display.HTML object>"
            ],
            "text/html": []
          },
          "metadata": {}
        },
        {
          "output_type": "display_data",
          "data": {
            "text/plain": [
              "<Figure size 640x480 with 1 Axes>"
            ],
            "image/png": "[encoded data removed]"
          },
          "metadata": {}
        }
      ]
    },
    {
      "cell_type": "markdown",
      "source": [
        "#### Display it as % of total importance"
      ],
      "metadata": {
        "id": "X0aas1fOUbnn"
      },
      "id": "X0aas1fOUbnn"
    },
    {
      "cell_type": "code",
      "source": [
        "# Store the results in a dictionary\n",
        "dict_var_imp = res.importance\n",
        "\n",
        "# calculate the percentage of total and sort in descending order\n",
        "total = sum(dict_var_imp.values())\n",
        "\n",
        "# Create a Dataframe to store the values\n",
        "var_imp_df = pd.DataFrame({'Variable': list(dict_var_imp.keys()), 'Importance': list(dict_var_imp.values())})\n",
        "var_imp_df['Pct_Total'] = (var_imp_df['Importance'] / total * 100).round(2)\n",
        "var_imp_df = var_imp_df.sort_values(by='Pct_Total', ascending=False).reset_index(drop=True)\n",
        "\n",
        "# Add a space before the capital letter in each word of the Variable column except the first letter\n",
        "var_imp_df['Variable'] = var_imp_df['Variable'].apply(lambda x: re.sub(r'([a-z])([A-Z])', r'\\1 \\2', x))\n",
        "\n",
        "# Get the top 10 Variables\n",
        "#top_10 = var_imp_df.head(10)\n",
        "\n",
        "# Create bar plot\n",
        "plt.figure(figsize=(10, 6))\n",
        "plt.barh(top_10['Variable'][::-1]\n",
        "         , top_10['Pct_Total'][::-1]\n",
        "         , color='steelblue')\n",
        "\n",
        "\n",
        "plt.xlabel('Variable Importance (%)', fontsize=10.5)\n",
        "plt.title('Variables Importance Plot' \n",
        "          , fontsize=14\n",
        "          , loc = 'center'\n",
        "          , pad = 7)\n",
        "\n",
        "plt.xticks(fontsize=9.5)  \n",
        "plt.yticks(fontsize=9.5) \n",
        "plt.tick_params(axis='y', length=0)\n",
        "plt.grid(axis='x', linestyle='--', alpha=0.5)\n",
        "plt.savefig('var_imp_plot.png', bbox_inches='tight');   # Export the image as .png file"
      ],
      "metadata": {
        "colab": {
          "base_uri": "https://localhost:8080/",
          "height": 567
        },
        "id": "Zyw1q1leNN77",
        "outputId": "4496824f-e90d-48bc-bda0-175bcd92440e"
      },
      "id": "Zyw1q1leNN77",
      "execution_count": 154,
      "outputs": [
        {
          "output_type": "display_data",
          "data": {
            "text/plain": [
              "<Figure size 1000x600 with 1 Axes>"
            ],
            "image/png": "[encoded data removed]"
          },
          "metadata": {}
        }
      ]
    },
    {
      "cell_type": "markdown",
      "source": [
        "#### Export the Model"
      ],
      "metadata": {
        "id": "TaNQ7EXdEaSo"
      },
      "id": "TaNQ7EXdEaSo"
    },
    {
      "cell_type": "code",
      "source": [
        "learn.export('DCE_predictive_model.pkl')"
      ],
      "metadata": {
        "id": "XzEcrw9XBfsg"
      },
      "id": "XzEcrw9XBfsg",
      "execution_count": 155,
      "outputs": []
    },
    {
      "cell_type": "markdown",
      "source": [
        "#### Load the Model"
      ],
      "metadata": {
        "id": "pmiS7bV_E4Xx"
      },
      "id": "pmiS7bV_E4Xx"
    },
    {
      "cell_type": "code",
      "source": [
        "# load the saved model\n",
        "learn = load_learner('DCE_predictive_model.pkl')\n",
        "\n",
        "# Get the Model's prediction on Test Data\n",
        "test_dl = learn.dls.test_dl(test_df)\n",
        "preds, _  = learn.get_preds(dl=test_dl)"
      ],
      "metadata": {
        "colab": {
          "base_uri": "https://localhost:8080/",
          "height": 17
        },
        "id": "ToxCyJJUE2_j",
        "outputId": "39a7b240-976e-4aa1-ca1f-fcbb09860a1d"
      },
      "execution_count": 156,
      "outputs": [
        {
          "output_type": "display_data",
          "data": {
            "text/plain": [
              "<IPython.core.display.HTML object>"
            ],
            "text/html": [
              "\n",
              "<style>\n",
              "    /* Turns off some styling */\n",
              "    progress {\n",
              "        /* gets rid of default border in Firefox and Opera. */\n",
              "        border: none;\n",
              "        /* Needs to be in here for Safari polyfill so background images work as expected. */\n",
              "        background-size: auto;\n",
              "    }\n",
              "    progress:not([value]), progress:not([value])::-webkit-progress-bar {\n",
              "        background: repeating-linear-gradient(45deg, #7e7e7e, #7e7e7e 10px, #5c5c5c 10px, #5c5c5c 20px);\n",
              "    }\n",
              "    .progress-bar-interrupted, .progress-bar-interrupted::-webkit-progress-bar {\n",
              "        background: #F44336;\n",
              "    }\n",
              "</style>\n"
            ]
          },
          "metadata": {}
        },
        {
          "output_type": "display_data",
          "data": {
            "text/plain": [
              "<IPython.core.display.HTML object>"
            ],
            "text/html": []
          },
          "metadata": {}
        }
      ],
      "id": "ToxCyJJUE2_j"
    },
    {
      "cell_type": "code",
      "execution_count": 157,
      "metadata": {
        "id": "1c54ec42",
        "colab": {
          "base_uri": "https://localhost:8080/",
          "height": 423
        },
        "outputId": "43aece4f-68a4-4b39-b0df-a915f875a224"
      },
      "outputs": [
        {
          "output_type": "execute_result",
          "data": {
            "text/plain": [
              "     SpecimenAgeTested  SpecimenMeasuredStrength  \\\n",
              "0                    7                      6300   \n",
              "1                   28                      8950   \n",
              "2                   28                      8950   \n",
              "3                   28                      8690   \n",
              "4                   28                     12000   \n",
              "..                 ...                       ...   \n",
              "501                 28                      4220   \n",
              "502                  7                      3300   \n",
              "503                 28                      4810   \n",
              "504                 28                      4660   \n",
              "505                 28                      5200   \n",
              "\n",
              "     SpecimenMeasuredStrength_pred  BatchRequiredStrength  \n",
              "0                           7044.0                   7200  \n",
              "1                           9074.0                   7200  \n",
              "2                           8331.0                   6500  \n",
              "3                           8989.0                   7200  \n",
              "4                          10946.0                  10000  \n",
              "..                             ...                    ...  \n",
              "501                         5012.0                   4000  \n",
              "502                         3496.0                   4000  \n",
              "503                         5355.0                   4000  \n",
              "504                         5336.0                   4000  \n",
              "505                         5222.0                   4000  \n",
              "\n",
              "[506 rows x 4 columns]"
            ],
            "text/html": [
              "\n",
              "  <div id=\"df-df7c4730-4db5-465f-a9cd-4f4e5543b5c0\">\n",
              "    <div class=\"colab-df-container\">\n",
              "      <div>\n",
              "<style scoped>\n",
              "    .dataframe tbody tr th:only-of-type {\n",
              "        vertical-align: middle;\n",
              "    }\n",
              "\n",
              "    .dataframe tbody tr th {\n",
              "        vertical-align: top;\n",
              "    }\n",
              "\n",
              "    .dataframe thead th {\n",
              "        text-align: right;\n",
              "    }\n",
              "</style>\n",
              "<table border=\"1\" class=\"dataframe\">\n",
              "  <thead>\n",
              "    <tr style=\"text-align: right;\">\n",
              "      <th></th>\n",
              "      <th>SpecimenAgeTested</th>\n",
              "      <th>SpecimenMeasuredStrength</th>\n",
              "      <th>SpecimenMeasuredStrength_pred</th>\n",
              "      <th>BatchRequiredStrength</th>\n",
              "    </tr>\n",
              "  </thead>\n",
              "  <tbody>\n",
              "    <tr>\n",
              "      <th>0</th>\n",
              "      <td>7</td>\n",
              "      <td>6300</td>\n",
              "      <td>7044.0</td>\n",
              "      <td>7200</td>\n",
              "    </tr>\n",
              "    <tr>\n",
              "      <th>1</th>\n",
              "      <td>28</td>\n",
              "      <td>8950</td>\n",
              "      <td>9074.0</td>\n",
              "      <td>7200</td>\n",
              "    </tr>\n",
              "    <tr>\n",
              "      <th>2</th>\n",
              "      <td>28</td>\n",
              "      <td>8950</td>\n",
              "      <td>8331.0</td>\n",
              "      <td>6500</td>\n",
              "    </tr>\n",
              "    <tr>\n",
              "      <th>3</th>\n",
              "      <td>28</td>\n",
              "      <td>8690</td>\n",
              "      <td>8989.0</td>\n",
              "      <td>7200</td>\n",
              "    </tr>\n",
              "    <tr>\n",
              "      <th>4</th>\n",
              "      <td>28</td>\n",
              "      <td>12000</td>\n",
              "      <td>10946.0</td>\n",
              "      <td>10000</td>\n",
              "    </tr>\n",
              "    <tr>\n",
              "      <th>...</th>\n",
              "      <td>...</td>\n",
              "      <td>...</td>\n",
              "      <td>...</td>\n",
              "      <td>...</td>\n",
              "    </tr>\n",
              "    <tr>\n",
              "      <th>501</th>\n",
              "      <td>28</td>\n",
              "      <td>4220</td>\n",
              "      <td>5012.0</td>\n",
              "      <td>4000</td>\n",
              "    </tr>\n",
              "    <tr>\n",
              "      <th>502</th>\n",
              "      <td>7</td>\n",
              "      <td>3300</td>\n",
              "      <td>3496.0</td>\n",
              "      <td>4000</td>\n",
              "    </tr>\n",
              "    <tr>\n",
              "      <th>503</th>\n",
              "      <td>28</td>\n",
              "      <td>4810</td>\n",
              "      <td>5355.0</td>\n",
              "      <td>4000</td>\n",
              "    </tr>\n",
              "    <tr>\n",
              "      <th>504</th>\n",
              "      <td>28</td>\n",
              "      <td>4660</td>\n",
              "      <td>5336.0</td>\n",
              "      <td>4000</td>\n",
              "    </tr>\n",
              "    <tr>\n",
              "      <th>505</th>\n",
              "      <td>28</td>\n",
              "      <td>5200</td>\n",
              "      <td>5222.0</td>\n",
              "      <td>4000</td>\n",
              "    </tr>\n",
              "  </tbody>\n",
              "</table>\n",
              "<p>506 rows × 4 columns</p>\n",
              "</div>\n",
              "      <button class=\"colab-df-convert\" onclick=\"convertToInteractive('df-df7c4730-4db5-465f-a9cd-4f4e5543b5c0')\"\n",
              "              title=\"Convert this dataframe to an interactive table.\"\n",
              "              style=\"display:none;\">\n",
              "        \n",
              "  <svg xmlns=\"http://www.w3.org/2000/svg\" height=\"24px\"viewBox=\"0 0 24 24\"\n",
              "       width=\"24px\">\n",
              "    <path d=\"M0 0h24v24H0V0z\" fill=\"none\"/>\n",
              "    <path d=\"M18.56 5.44l.94 2.06.94-2.06 2.06-.94-2.06-.94-.94-2.06-.94 2.06-2.06.94zm-11 1L8.5 8.5l.94-2.06 2.06-.94-2.06-.94L8.5 2.5l-.94 2.06-2.06.94zm10 10l.94 2.06.94-2.06 2.06-.94-2.06-.94-.94-2.06-.94 2.06-2.06.94z\"/><path d=\"M17.41 7.96l-1.37-1.37c-.4-.4-.92-.59-1.43-.59-.52 0-1.04.2-1.43.59L10.3 9.45l-7.72 7.72c-.78.78-.78 2.05 0 2.83L4 21.41c.39.39.9.59 1.41.59.51 0 1.02-.2 1.41-.59l7.78-7.78 2.81-2.81c.8-.78.8-2.07 0-2.86zM5.41 20L4 18.59l7.72-7.72 1.47 1.35L5.41 20z\"/>\n",
              "  </svg>\n",
              "      </button>\n",
              "      \n",
              "  <style>\n",
              "    .colab-df-container {\n",
              "      display:flex;\n",
              "      flex-wrap:wrap;\n",
              "      gap: 12px;\n",
              "    }\n",
              "\n",
              "    .colab-df-convert {\n",
              "      background-color: #E8F0FE;\n",
              "      border: none;\n",
              "      border-radius: 50%;\n",
              "      cursor: pointer;\n",
              "      display: none;\n",
              "      fill: #1967D2;\n",
              "      height: 32px;\n",
              "      padding: 0 0 0 0;\n",
              "      width: 32px;\n",
              "    }\n",
              "\n",
              "    .colab-df-convert:hover {\n",
              "      background-color: #E2EBFA;\n",
              "      box-shadow: 0px 1px 2px rgba(60, 64, 67, 0.3), 0px 1px 3px 1px rgba(60, 64, 67, 0.15);\n",
              "      fill: #174EA6;\n",
              "    }\n",
              "\n",
              "    [theme=dark] .colab-df-convert {\n",
              "      background-color: #3B4455;\n",
              "      fill: #D2E3FC;\n",
              "    }\n",
              "\n",
              "    [theme=dark] .colab-df-convert:hover {\n",
              "      background-color: #434B5C;\n",
              "      box-shadow: 0px 1px 3px 1px rgba(0, 0, 0, 0.15);\n",
              "      filter: drop-shadow(0px 1px 2px rgba(0, 0, 0, 0.3));\n",
              "      fill: #FFFFFF;\n",
              "    }\n",
              "  </style>\n",
              "\n",
              "      <script>\n",
              "        const buttonEl =\n",
              "          document.querySelector('#df-df7c4730-4db5-465f-a9cd-4f4e5543b5c0 button.colab-df-convert');\n",
              "        buttonEl.style.display =\n",
              "          google.colab.kernel.accessAllowed ? 'block' : 'none';\n",
              "\n",
              "        async function convertToInteractive(key) {\n",
              "          const element = document.querySelector('#df-df7c4730-4db5-465f-a9cd-4f4e5543b5c0');\n",
              "          const dataTable =\n",
              "            await google.colab.kernel.invokeFunction('convertToInteractive',\n",
              "                                                     [key], {});\n",
              "          if (!dataTable) return;\n",
              "\n",
              "          const docLinkHtml = 'Like what you see? Visit the ' +\n",
              "            '<a target=\"_blank\" href=https://colab.research.google.com/notebooks/data_table.ipynb>data table notebook</a>'\n",
              "            + ' to learn more about interactive tables.';\n",
              "          element.innerHTML = '';\n",
              "          dataTable['output_type'] = 'display_data';\n",
              "          await google.colab.output.renderOutput(dataTable, element);\n",
              "          const docLink = document.createElement('div');\n",
              "          docLink.innerHTML = docLinkHtml;\n",
              "          element.appendChild(docLink);\n",
              "        }\n",
              "      </script>\n",
              "    </div>\n",
              "  </div>\n",
              "  "
            ]
          },
          "metadata": {},
          "execution_count": 157
        }
      ],
      "source": [
        "# See the actual values and prediction values\n",
        "Result_comparison = pd.concat([test_df['SpecimenAgeTested'].reset_index(drop=True)\n",
        "           , test_df['SpecimenMeasuredStrength'].reset_index(drop=True)\n",
        "           , pd.DataFrame(np.around(np.exp(preds)), columns=['SpecimenMeasuredStrength_pred'])\n",
        "           , test_df['BatchRequiredStrength'].reset_index(drop=True)], axis=1)\n",
        "\n",
        "#Result_comparison['Actual Ratio'] = Result_comparison['SpecimenMeasuredStrength'] / Result_comparison['BatchRequiredStrength']\n",
        "#Result_comparison['Predicted Ratio'] = Result_comparison['SpecimenMeasuredStrength_pred'] / Result_comparison['BatchRequiredStrength']\n",
        "\n",
        "Result_comparison"
      ],
      "id": "1c54ec42"
    },
    {
      "cell_type": "code",
      "source": [
        "# Export these Results\n",
        "#Result_comparison.to_csv('test_pred.csv', index=False)"
      ],
      "metadata": {
        "id": "kvqz4FPhuZpj"
      },
      "execution_count": 158,
      "outputs": [],
      "id": "kvqz4FPhuZpj"
    },
    {
      "cell_type": "markdown",
      "source": [
        "#### Calculate the Test RMSE"
      ],
      "metadata": {
        "id": "2WqCIMsZwP_C"
      },
      "id": "2WqCIMsZwP_C"
    },
    {
      "cell_type": "code",
      "source": [
        "from sklearn.metrics import mean_squared_error\n",
        "\n",
        "pred_array = np.around(np.exp(preds)).numpy().flatten()\n",
        "true_value_array = test_df['SpecimenMeasuredStrength'].to_numpy()\n",
        "test_rmse = mean_squared_error(true_value_array, pred_array, squared=False)\n",
        "\n",
        "print(\"Test RMSE is :\", test_rmse)"
      ],
      "metadata": {
        "colab": {
          "base_uri": "https://localhost:8080/"
        },
        "id": "G46BSOwMuOou",
        "outputId": "25d3d9c5-41c2-4188-c966-e444b6a02d27"
      },
      "execution_count": 159,
      "outputs": [
        {
          "output_type": "stream",
          "name": "stdout",
          "text": [
            "Test RMSE is : 1022.0803370650566\n"
          ]
        }
      ],
      "id": "G46BSOwMuOou"
    },
    {
      "cell_type": "markdown",
      "source": [
        "**Prediction Values are off by 1022 PSI**"
      ],
      "metadata": {
        "id": "PJzeRkKOuzzY"
      },
      "id": "PJzeRkKOuzzY"
    }
  ],
  "metadata": {
    "kernelspec": {
      "display_name": "Python 3 (ipykernel)",
      "language": "python",
      "name": "python3"
    },
    "language_info": {
      "codemirror_mode": {
        "name": "ipython",
        "version": 3
      },
      "file_extension": ".py",
      "mimetype": "text/x-python",
      "name": "python",
      "nbconvert_exporter": "python",
      "pygments_lexer": "ipython3",
      "version": "3.9.13"
    },
    "colab": {
      "provenance": []
    }
  },
  "nbformat": 4,
  "nbformat_minor": 5
}